{
 "cells": [
  {
   "cell_type": "markdown",
   "metadata": {},
   "source": [
    "# FIONA | Adding sectors to SUT via Excel files\n",
    "\n",
    "This tutorial shows how to adopt FIONA excel templates to add bulk new activities and commodities into a mario.Database object\n",
    "\n",
    "N.B. This is only valid for supply-use tables (SUTs)\n",
    "\n",
    "\n",
    "---"
   ]
  },
  {
   "cell_type": "markdown",
   "metadata": {},
   "source": [
    "## Initializing the DB_Builder\n",
    "\n",
    "To inizialize a DB_Builder object, it is enough to provide the path to a SUT ('sut_path'), the mode in which the SUT should be parsed by MARIO ('sut_mode' can be 'flows' or 'coefficients') and the path to a master template file (master_file_path'). In case the master file is already prepared and needs just to be read, change the 'read_master_file' to True"
   ]
  },
  {
   "cell_type": "code",
   "execution_count": null,
   "metadata": {},
   "outputs": [],
   "source": [
    "from core.db_builder import DB_builder\n",
    "\n",
    "sut_path = 'tests/exiobase/coefficients'\n",
    "sut_mode = 'coefficients'\n",
    "master_file_path = 'tests/exiobase/master.xlsx'\n",
    "\n",
    "db = DB_builder(\n",
    "    sut_path=sut_path,\n",
    "    sut_mode=sut_mode,\n",
    "    master_file_path=master_file_path,\n",
    "    sut_format='txt',\n",
    "    read_master_file=True,\n",
    ")"
   ]
  },
  {
   "cell_type": "markdown",
   "metadata": {},
   "source": [
    "## Reading the master excel file\n",
    "Once generated, the master file should be filled by the user, then parsed as follows"
   ]
  },
  {
   "cell_type": "code",
   "execution_count": null,
   "metadata": {},
   "outputs": [],
   "source": [
    "db.read_master_template(master_file_path)"
   ]
  },
  {
   "cell_type": "markdown",
   "metadata": {},
   "source": [
    "## Getting inventories templates\n",
    "Parsing the master file will inform the DB_Builder on which new activities and commodities needs to be added. \n",
    "The user will need to provide the information regarding the inventory of each new activity by generating the inventories templates. These will be stored as new sheets of the master file and the user should fill them "
   ]
  },
  {
   "cell_type": "code",
   "execution_count": null,
   "metadata": {},
   "outputs": [],
   "source": [
    "db.get_inventory_templates(master_file_path)"
   ]
  },
  {
   "cell_type": "markdown",
   "metadata": {},
   "source": [
    "## Adding inventories of new activities\n",
    "First, once filled, the inventories must be parsed"
   ]
  },
  {
   "cell_type": "code",
   "execution_count": null,
   "metadata": {},
   "outputs": [],
   "source": [
    "db.read_inventories(master_file_path)"
   ]
  },
  {
   "cell_type": "code",
   "execution_count": null,
   "metadata": {},
   "outputs": [],
   "source": [
    "db.add_inventories('excel')"
   ]
  },
  {
   "cell_type": "code",
   "execution_count": null,
   "metadata": {},
   "outputs": [],
   "source": []
  }
 ],
 "metadata": {
  "kernelspec": {
   "display_name": "fiona",
   "language": "python",
   "name": "python3"
  },
  "language_info": {
   "codemirror_mode": {
    "name": "ipython",
    "version": 3
   },
   "file_extension": ".py",
   "mimetype": "text/x-python",
   "name": "python",
   "nbconvert_exporter": "python",
   "pygments_lexer": "ipython3",
   "version": "3.8.19"
  }
 },
 "nbformat": 4,
 "nbformat_minor": 2
}
