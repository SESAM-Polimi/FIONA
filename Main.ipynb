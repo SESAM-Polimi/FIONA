{
 "cells": [
  {
   "cell_type": "markdown",
   "metadata": {},
   "source": [
    "# FIONA | Adding sectors to SUT via Excel files\n",
    "\n",
    "This tutorial shows how to adopt FIONA excel templates to add bulk new activities and commodities into a mario.Database object\n",
    "\n",
    "N.B. This is only valid for supply-use tables (SUTs)\n",
    "\n",
    "\n",
    "---"
   ]
  },
  {
   "cell_type": "markdown",
   "metadata": {},
   "source": [
    "## Initializing the DB_Builder\n",
    "\n",
    "To inizialize a DB_Builder object, it is enough to provide the path to a SUT ('sut_path'), the mode in which the SUT should be parsed by MARIO ('sut_mode' can be 'flows' or 'coefficients') and the path to a master template file (master_file_path'). In case the master file is already prepared and needs just to be read, change the 'read_master_file' to True"
   ]
  },
  {
   "cell_type": "code",
   "execution_count": 1,
   "metadata": {},
   "outputs": [
    {
     "ename": "ModuleNotFoundError",
     "evalue": "No module named 'core'",
     "output_type": "error",
     "traceback": [
      "\u001b[0;31m---------------------------------------------------------------------------\u001b[0m",
      "\u001b[0;31mModuleNotFoundError\u001b[0m                       Traceback (most recent call last)",
      "Cell \u001b[0;32mIn[1], line 1\u001b[0m\n\u001b[0;32m----> 1\u001b[0m \u001b[38;5;28;01mfrom\u001b[39;00m \u001b[38;5;21;01mcore\u001b[39;00m\u001b[38;5;21;01m.\u001b[39;00m\u001b[38;5;21;01mdb_builder\u001b[39;00m \u001b[38;5;28;01mimport\u001b[39;00m DB_builder\n\u001b[1;32m      3\u001b[0m sut_path \u001b[38;5;241m=\u001b[39m \u001b[38;5;124m'\u001b[39m\u001b[38;5;124mtests/exiobase/coefficients\u001b[39m\u001b[38;5;124m'\u001b[39m\n\u001b[1;32m      4\u001b[0m sut_mode \u001b[38;5;241m=\u001b[39m \u001b[38;5;124m'\u001b[39m\u001b[38;5;124mcoefficients\u001b[39m\u001b[38;5;124m'\u001b[39m\n",
      "\u001b[0;31mModuleNotFoundError\u001b[0m: No module named 'core'"
     ]
    }
   ],
   "source": [
    "from fiona.core.db_builder import DB_builder\n",
    "\n",
    "sut_path = 'tests/exiobase/coefficients'\n",
    "sut_mode = 'coefficients'\n",
    "master_file_path = 'tests/exiobase/master.xlsx'\n",
    "\n",
    "db = DB_builder(\n",
    "    sut_path=sut_path,\n",
    "    sut_mode=sut_mode,\n",
    "    master_file_path=master_file_path,\n",
    "    sut_format='txt',\n",
    "    read_master_file=True,\n",
    ")"
   ]
  },
  {
   "cell_type": "markdown",
   "metadata": {},
   "source": [
    "## Reading the master excel file\n",
    "Once generated, the master file should be filled by the user, then parsed as follows"
   ]
  },
  {
   "cell_type": "code",
   "execution_count": null,
   "metadata": {},
   "outputs": [],
   "source": [
    "db.read_master_template(master_file_path)"
   ]
  },
  {
   "cell_type": "markdown",
   "metadata": {},
   "source": [
    "## Getting inventories templates\n",
    "Parsing the master file will inform the DB_Builder on which new activities and commodities needs to be added. \n",
    "The user will need to provide the information regarding the inventory of each new activity by generating the inventories templates. These will be stored as new sheets of the master file and the user should fill them "
   ]
  },
  {
   "cell_type": "code",
   "execution_count": null,
   "metadata": {},
   "outputs": [],
   "source": [
    "db.get_inventory_templates(master_file_path)"
   ]
  },
  {
   "cell_type": "markdown",
   "metadata": {},
   "source": [
    "## Adding inventories of new activities\n",
    "First, once filled, the inventories must be parsed"
   ]
  },
  {
   "cell_type": "code",
   "execution_count": null,
   "metadata": {},
   "outputs": [],
   "source": [
    "db.read_inventories(master_file_path)"
   ]
  },
  {
   "cell_type": "code",
   "execution_count": null,
   "metadata": {},
   "outputs": [],
   "source": [
    "db.add_inventories('excel')"
   ]
  },
  {
   "cell_type": "code",
   "execution_count": null,
   "metadata": {},
   "outputs": [],
   "source": []
  }
 ],
 "metadata": {
  "kernelspec": {
   "display_name": "fiona",
   "language": "python",
   "name": "python3"
  },
  "language_info": {
   "codemirror_mode": {
    "name": "ipython",
    "version": 3
   },
   "file_extension": ".py",
   "mimetype": "text/x-python",
   "name": "python",
   "nbconvert_exporter": "python",
   "pygments_lexer": "ipython3",
   "version": "3.10.15"
  }
 },
 "nbformat": 4,
 "nbformat_minor": 2
}
